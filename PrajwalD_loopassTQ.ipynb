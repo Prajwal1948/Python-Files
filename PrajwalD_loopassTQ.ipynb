{
 "cells": [
  {
   "cell_type": "code",
   "execution_count": 1,
   "id": "90949623",
   "metadata": {},
   "outputs": [
    {
     "name": "stdout",
     "output_type": "stream",
     "text": [
      "Enter the starting number: 121\n",
      "Enter the ending number: 229\n",
      "122\n",
      "124\n",
      "126\n",
      "128\n",
      "130\n",
      "132\n",
      "134\n",
      "136\n",
      "138\n",
      "140\n",
      "142\n",
      "144\n",
      "146\n",
      "148\n",
      "150\n",
      "152\n",
      "154\n",
      "156\n",
      "158\n",
      "160\n",
      "162\n",
      "164\n",
      "166\n",
      "168\n",
      "170\n",
      "172\n",
      "174\n",
      "176\n",
      "178\n",
      "180\n",
      "182\n",
      "184\n",
      "186\n",
      "188\n",
      "190\n",
      "192\n",
      "194\n",
      "196\n",
      "198\n",
      "200\n",
      "202\n",
      "204\n",
      "206\n",
      "208\n",
      "210\n",
      "212\n",
      "214\n",
      "216\n",
      "218\n",
      "220\n",
      "222\n",
      "224\n",
      "226\n",
      "228\n"
     ]
    }
   ],
   "source": [
    "#1 print even numbers from 121 to 229 using loop\n",
    "n1=int(input('Enter the starting number: '))\n",
    "n2=int(input('Enter the ending number: '))\n",
    "for i in range(n1,n2+1):\n",
    "    if (i%2==0):\n",
    "        print(i)\n"
   ]
  },
  {
   "cell_type": "code",
   "execution_count": 36,
   "id": "9a760dd9",
   "metadata": {},
   "outputs": [
    {
     "name": "stdout",
     "output_type": "stream",
     "text": [
      "521\n",
      "519\n",
      "517\n",
      "515\n",
      "513\n",
      "511\n",
      "509\n",
      "507\n",
      "505\n",
      "503\n",
      "501\n",
      "499\n",
      "497\n",
      "495\n",
      "493\n",
      "491\n",
      "489\n",
      "487\n",
      "485\n",
      "483\n",
      "481\n",
      "479\n",
      "477\n",
      "475\n",
      "473\n",
      "471\n",
      "469\n",
      "467\n",
      "465\n",
      "463\n",
      "461\n",
      "459\n",
      "457\n",
      "455\n",
      "453\n",
      "451\n",
      "449\n",
      "447\n",
      "445\n",
      "443\n",
      "441\n",
      "439\n",
      "437\n",
      "435\n",
      "433\n",
      "431\n",
      "429\n",
      "427\n",
      "425\n",
      "423\n",
      "421\n",
      "419\n",
      "417\n",
      "415\n",
      "413\n",
      "411\n",
      "409\n",
      "407\n",
      "405\n",
      "403\n",
      "401\n",
      "399\n",
      "397\n",
      "395\n",
      "393\n",
      "391\n",
      "389\n",
      "387\n",
      "385\n",
      "383\n",
      "381\n",
      "379\n",
      "377\n",
      "375\n",
      "373\n",
      "371\n",
      "369\n",
      "367\n",
      "365\n",
      "363\n",
      "361\n",
      "359\n",
      "357\n",
      "355\n",
      "353\n",
      "351\n",
      "349\n",
      "347\n",
      "345\n",
      "343\n",
      "341\n",
      "339\n",
      "337\n",
      "335\n",
      "333\n",
      "331\n",
      "329\n",
      "327\n",
      "325\n",
      "323\n",
      "321\n",
      "319\n",
      "317\n",
      "315\n",
      "313\n",
      "311\n",
      "309\n",
      "307\n",
      "305\n",
      "303\n",
      "301\n",
      "299\n",
      "297\n",
      "295\n",
      "293\n",
      "291\n",
      "289\n",
      "287\n",
      "285\n",
      "283\n",
      "281\n",
      "279\n",
      "277\n",
      "275\n",
      "273\n",
      "271\n",
      "269\n",
      "267\n",
      "265\n",
      "263\n",
      "261\n",
      "259\n",
      "257\n",
      "255\n",
      "253\n",
      "251\n",
      "249\n",
      "247\n",
      "245\n",
      "243\n",
      "241\n",
      "239\n",
      "237\n",
      "235\n",
      "233\n",
      "231\n",
      "229\n"
     ]
    }
   ],
   "source": [
    "#2. WAP to print odd numbers from 521 to 229 using while loop.\n",
    "n=521\n",
    "while n>=229:\n",
    "    if n%2!=0:\n",
    "        print(n)\n",
    "    n=n-1"
   ]
  },
  {
   "cell_type": "code",
   "execution_count": 22,
   "id": "867980d5",
   "metadata": {},
   "outputs": [
    {
     "name": "stdout",
     "output_type": "stream",
     "text": [
      "1\n",
      "2\n",
      "3\n",
      "4\n",
      "5\n"
     ]
    }
   ],
   "source": [
    "#3 WAP to usinf break statment in for loop\n",
    "for i in range(0,11):\n",
    "    i=i+1\n",
    "    if i%6==0:\n",
    "        break\n",
    "    print(i)"
   ]
  },
  {
   "cell_type": "code",
   "execution_count": 24,
   "id": "f4f431f9",
   "metadata": {},
   "outputs": [
    {
     "name": "stdout",
     "output_type": "stream",
     "text": [
      "Enter the number:- 25\n",
      "Enter the number:- 50\n",
      "The G.C.D. of 25 and 50 is 25\n"
     ]
    }
   ],
   "source": [
    "#4. WAP to find GCD and LCM of given number.\n",
    "num1=int(input(\"Enter the number:- \"))\n",
    "num2=int(input(\"Enter the number:- \"))\n",
    "n=1\n",
    "while n<=num1 and n<=num2:\n",
    "    if num1%n==0 and num2%n==0:\n",
    "        gcd=n\n",
    "    n=n+1\n",
    "print(\"The G.C.D. of\",num1,\"and\",num2,\"is\",gcd)"
   ]
  },
  {
   "cell_type": "code",
   "execution_count": 35,
   "id": "62d029e9",
   "metadata": {},
   "outputs": [
    {
     "name": "stdout",
     "output_type": "stream",
     "text": [
      "a b c d e f g h i j k l m n o p q r s t u v w x y z "
     ]
    }
   ],
   "source": [
    "#5 pritn a to z using loop\n",
    "import string\n",
    "for i in string.ascii_lowercase:\n",
    "    print(i,end=' ')"
   ]
  },
  {
   "cell_type": "code",
   "execution_count": 3,
   "id": "2f382d4d",
   "metadata": {},
   "outputs": [
    {
     "name": "stdout",
     "output_type": "stream",
     "text": [
      "Enter the starting number: 1\n",
      "Enter the ending number: 20\n",
      "2\n",
      "4\n",
      "6\n",
      "8\n",
      "10\n",
      "12\n",
      "14\n",
      "16\n",
      "18\n",
      "20\n"
     ]
    }
   ],
   "source": [
    "#6 print all the even number from 1 to n\n",
    "n1=int(input('Enter the starting number: '))\n",
    "n2=int(input('Enter the ending number: '))\n",
    "\n",
    "for i in range(n1,n2+1):\n",
    "    if (i%2==0):\n",
    "        print(i)"
   ]
  },
  {
   "cell_type": "code",
   "execution_count": 6,
   "id": "5f0f2251",
   "metadata": {},
   "outputs": [
    {
     "name": "stdout",
     "output_type": "stream",
     "text": [
      "Enter the starting number: 1\n",
      "Enter the ending number: 20\n",
      "1\n",
      "3\n",
      "5\n",
      "7\n",
      "9\n",
      "11\n",
      "13\n",
      "15\n",
      "17\n",
      "19\n"
     ]
    }
   ],
   "source": [
    "#7 print all the odd number from 1 to n\n",
    "n1=int(input('Enter the starting number: '))\n",
    "n2=int(input('Enter the ending number: '))\n",
    "\n",
    "for i in range(n1,n2+1):\n",
    "    if (i%2!=0):\n",
    "        print(i)"
   ]
  },
  {
   "cell_type": "code",
   "execution_count": 7,
   "id": "a4dbe5f6",
   "metadata": {},
   "outputs": [
    {
     "name": "stdout",
     "output_type": "stream",
     "text": [
      "Enter the number: 12342\n",
      "The number of digits in number is 5\n"
     ]
    }
   ],
   "source": [
    "#8 count no of digit in any number\n",
    "num=int(input('Enter the number: '))\n",
    "count=0\n",
    "while num>0:\n",
    "    num=num//10\n",
    "    count=count+1\n",
    "print('The number of digits in number is',count)"
   ]
  },
  {
   "cell_type": "code",
   "execution_count": 8,
   "id": "dbc72979",
   "metadata": {},
   "outputs": [
    {
     "name": "stdout",
     "output_type": "stream",
     "text": [
      "Enter the number: 2342\n",
      "The number of digits in number is 11\n"
     ]
    }
   ],
   "source": [
    "#9 Calculate the product of digits of any number\n",
    "num=int(input('Enter the number: '))\n",
    "count=0\n",
    "sum=0\n",
    "while num>0:\n",
    "    r=num%10\n",
    "    sum=sum+r\n",
    "    num=num//10\n",
    "    count=count+1\n",
    "print('The number of digits in number is',sum)"
   ]
  },
  {
   "cell_type": "code",
   "execution_count": 9,
   "id": "f36e27bc",
   "metadata": {},
   "outputs": [
    {
     "name": "stdout",
     "output_type": "stream",
     "text": [
      "Enter the number: 123\n",
      "Digit\tfrequncy\n",
      "3 \t 3\n"
     ]
    }
   ],
   "source": [
    "#10 find frequncy\n",
    "num=int(input('Enter the number: '))\n",
    "print('Digit\\tfrequncy')\n",
    "\n",
    "for i in range(0,10):\n",
    "    count=0\n",
    "    temp=num\n",
    "    while temp>0:\n",
    "        r=num%10\n",
    "        if r==i:\n",
    "            count=count+1\n",
    "        temp=temp//10\n",
    "    if count>0:\n",
    "        print(i,'\\t',count)"
   ]
  },
  {
   "cell_type": "code",
   "execution_count": 1,
   "id": "425f70ff",
   "metadata": {},
   "outputs": [
    {
     "name": "stdout",
     "output_type": "stream",
     "text": [
      "397 is prime number\n",
      "389 is prime number\n",
      "383 is prime number\n",
      "379 is prime number\n",
      "373 is prime number\n",
      "367 is prime number\n",
      "359 is prime number\n",
      "353 is prime number\n",
      "349 is prime number\n",
      "347 is prime number\n",
      "337 is prime number\n",
      "331 is prime number\n",
      "317 is prime number\n",
      "313 is prime number\n",
      "311 is prime number\n",
      "307 is prime number\n"
     ]
    }
   ],
   "source": [
    "#11 prime number between 400 to 300\n",
    "for i in range(400,300,-1):\n",
    "    n=2\n",
    "    flag=1\n",
    "    while n<i:\n",
    "        if i%n==0:\n",
    "            flag=0\n",
    "            break\n",
    "        n=n+1\n",
    "    if flag==1:\n",
    "        print(i,\"is prime number\")"
   ]
  },
  {
   "cell_type": "code",
   "execution_count": 12,
   "id": "ac3c1c84",
   "metadata": {},
   "outputs": [
    {
     "name": "stdout",
     "output_type": "stream",
     "text": [
      "Enter the number: 4\n",
      "The table of course 4\n",
      "4 X 1 = 4\n",
      "4 X 2 = 8\n",
      "4 X 3 = 12\n",
      "4 X 4 = 16\n",
      "4 X 5 = 20\n",
      "4 X 6 = 24\n",
      "4 X 7 = 28\n",
      "4 X 8 = 32\n",
      "4 X 9 = 36\n",
      "4 X 10 = 40\n"
     ]
    }
   ],
   "source": [
    "#12 print table of given no\n",
    "num=int(input('Enter the number: '))\n",
    "print('The table of course', num)\n",
    "for i in range(1,11):\n",
    "    print(num,'X',i,'=',num*i)"
   ]
  },
  {
   "cell_type": "code",
   "execution_count": 13,
   "id": "037fe8b8",
   "metadata": {},
   "outputs": [
    {
     "name": "stdout",
     "output_type": "stream",
     "text": [
      "Enter the first number: 1\n",
      "Enter the second number: 5\n",
      "1\n",
      "4\n",
      "9\n",
      "16\n",
      "25\n"
     ]
    }
   ],
   "source": [
    "#13 print squares from 1 to 20\n",
    "n1=int(input('Enter the first number: '))\n",
    "n2=int(input('Enter the second number: '))\n",
    "\n",
    "for n in range(n1,n2+1):\n",
    "    print(n**2)"
   ]
  },
  {
   "cell_type": "code",
   "execution_count": 14,
   "id": "0e1c71ea",
   "metadata": {},
   "outputs": [
    {
     "name": "stdout",
     "output_type": "stream",
     "text": [
      "Enter the base: 2\n",
      "Enter the index5\n",
      "Calculate power from base and index 32\n"
     ]
    }
   ],
   "source": [
    "#14 accept bas and index from user to calculate power\n",
    "base=int(input('Enter the base: '))\n",
    "index=int(input('Enter the index'))\n",
    "\n",
    "power=base**index\n",
    "print('Calculate power from base and index', power)"
   ]
  },
  {
   "cell_type": "code",
   "execution_count": 3,
   "id": "f69f3d85",
   "metadata": {},
   "outputs": [
    {
     "name": "stdout",
     "output_type": "stream",
     "text": [
      "Enter the no:- 5\n",
      "Sum of factorials of 1 to 5 numbers is :-: 120\n"
     ]
    }
   ],
   "source": [
    "# 15. 1!+2!+3!.........+n! find s.\n",
    "num=int(input(\"Enter the no:- \"))\n",
    "sum=1\n",
    "i=1\n",
    "while i<=num:\n",
    "    sum=sum*i\n",
    "    i=i+1\n",
    "print(\"Sum of factorials of 1 to\",num,\"numbers is :-:\",sum)"
   ]
  },
  {
   "cell_type": "code",
   "execution_count": 2,
   "id": "dff03682",
   "metadata": {},
   "outputs": [
    {
     "name": "stdout",
     "output_type": "stream",
     "text": [
      "Enter the no:-153\n",
      "153\n",
      "The given number is armstrong\n"
     ]
    }
   ],
   "source": [
    "#15 no is armstrong or not ex 153\n",
    "num=int(input(\"Enter the no:-\"))\n",
    "sum=0\n",
    "r=0\n",
    "a=num\n",
    "while num>0:\n",
    "    r=num%10\n",
    "    sum=sum+(r**3)\n",
    "    num=num//10\n",
    "print(sum)\n",
    "if sum==a:\n",
    "    print(\"The given number is armstrong\")\n",
    "else:\n",
    "    print(\"The given number is not armstrong\")"
   ]
  },
  {
   "cell_type": "code",
   "execution_count": 17,
   "id": "55364677",
   "metadata": {},
   "outputs": [
    {
     "name": "stdout",
     "output_type": "stream",
     "text": [
      "Enter the number: 1221\n",
      "The no is palindrome 1221\n"
     ]
    }
   ],
   "source": [
    "#17 check given no is palindrome or not\n",
    "num=int(input('Enter the number: '))\n",
    "\n",
    "temp=num\n",
    "reverse=0\n",
    "\n",
    "while temp>0:\n",
    "    r=temp%10\n",
    "    reverse=reverse*10+r\n",
    "    temp=temp//10\n",
    "    \n",
    "if num==reverse:\n",
    "    print('The no is palindrome',reverse)\n",
    "else:\n",
    "    print('The no is not Palindrome',reverse)"
   ]
  },
  {
   "cell_type": "code",
   "execution_count": 34,
   "id": "675199e2",
   "metadata": {},
   "outputs": [
    {
     "name": "stdout",
     "output_type": "stream",
     "text": [
      "Enter the number: 25\n",
      "25 is automorphic number\n"
     ]
    }
   ],
   "source": [
    "#18 automorphic or not\n",
    "num=int(input('Enter the number: '))\n",
    "digit=len(str(num))\n",
    "square=num**2\n",
    "lastdigit=square%pow(10,digit)\n",
    "if lastdigit==num:\n",
    "    print(num,'is automorphic number')\n",
    "else:\n",
    "    print(num,'is not automorphic number')"
   ]
  },
  {
   "cell_type": "code",
   "execution_count": 28,
   "id": "f16be42d",
   "metadata": {},
   "outputs": [
    {
     "name": "stdout",
     "output_type": "stream",
     "text": [
      "Enter the number: 15\n",
      "The number is not divisible by the sum\n"
     ]
    }
   ],
   "source": [
    "#19 18 divisible by 9\n",
    "num=int(input('Enter the number: '))\n",
    "sum=0\n",
    "temp=num\n",
    "while temp>0:\n",
    "    r=temp%10\n",
    "    sum=sum+r\n",
    "    temp=temp//10\n",
    "    \n",
    "if num%sum==0:\n",
    "    print('The number is divisible by the sum ')\n",
    "else:\n",
    "    print('The number is not divisible by the sum')\n",
    "    "
   ]
  },
  {
   "cell_type": "code",
   "execution_count": 16,
   "id": "96188d65",
   "metadata": {},
   "outputs": [
    {
     "name": "stdout",
     "output_type": "stream",
     "text": [
      "Enter the starting number: 100\n",
      "Enter the ending number: 500\n",
      "Palindrome numbers from 100 to 500\n",
      "101\n",
      "111\n",
      "121\n",
      "131\n",
      "141\n",
      "151\n",
      "161\n",
      "171\n",
      "181\n",
      "191\n",
      "202\n",
      "212\n",
      "222\n",
      "232\n",
      "242\n",
      "252\n",
      "262\n",
      "272\n",
      "282\n",
      "292\n",
      "303\n",
      "313\n",
      "323\n",
      "333\n",
      "343\n",
      "353\n",
      "363\n",
      "373\n",
      "383\n",
      "393\n",
      "404\n",
      "414\n",
      "424\n",
      "434\n",
      "444\n",
      "454\n",
      "464\n",
      "474\n",
      "484\n",
      "494\n"
     ]
    }
   ],
   "source": [
    "#20print all palindrome number from 100to500\n",
    "n1=int(input('Enter the starting number: '))\n",
    "n2=int(input('Enter the ending number: '))\n",
    "\n",
    "print(\"Palindrome numbers from\",n1,'to',n2)\n",
    "for n in range(n1,n2+1): \n",
    "    rev=0\n",
    "    temp=n\n",
    "    \n",
    "    while (temp>0):\n",
    "        r=temp%10\n",
    "        rev=(rev*10)+r\n",
    "        temp=temp//10\n",
    "    if (n==rev):\n",
    "        print(rev)"
   ]
  },
  {
   "cell_type": "code",
   "execution_count": null,
   "id": "bfb5963d",
   "metadata": {},
   "outputs": [],
   "source": []
  }
 ],
 "metadata": {
  "kernelspec": {
   "display_name": "Python 3 (ipykernel)",
   "language": "python",
   "name": "python3"
  },
  "language_info": {
   "codemirror_mode": {
    "name": "ipython",
    "version": 3
   },
   "file_extension": ".py",
   "mimetype": "text/x-python",
   "name": "python",
   "nbconvert_exporter": "python",
   "pygments_lexer": "ipython3",
   "version": "3.11.0"
  }
 },
 "nbformat": 4,
 "nbformat_minor": 5
}
