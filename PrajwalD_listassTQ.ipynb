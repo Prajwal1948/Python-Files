{
 "cells": [
  {
   "cell_type": "code",
   "execution_count": 33,
   "id": "4e36251e",
   "metadata": {},
   "outputs": [
    {
     "name": "stdout",
     "output_type": "stream",
     "text": [
      "The given list is  [1, 2, 3, 1, 2, 4, 5, 1, 2, 3]\n",
      "After the list sorting the list becomes:  [1, 1, 1, 2, 2, 2, 3, 3, 4, 5]\n",
      "Duplicates in the given list is: [1, 2, 3]\n"
     ]
    }
   ],
   "source": [
    "#1 wap to Remove to find duplicates elements in list\n",
    "lst1=[1,2,3,1,2,4,5,1,2,3]\n",
    "print('The given list is ',lst1)\n",
    "lst2=sorted(lst1)\n",
    "print('After the list sorting the list becomes: ',lst2)\n",
    "\n",
    "duplicates=[]\n",
    "\n",
    "for i in lst2:\n",
    "    if lst2.count(i)>1:\n",
    "        if i not in duplicates:\n",
    "            duplicates.append(i)\n",
    "            \n",
    "print('Duplicates in the given list is:',duplicates)\n"
   ]
  },
  {
   "cell_type": "code",
   "execution_count": 3,
   "id": "25f71777",
   "metadata": {},
   "outputs": [
    {
     "data": {
      "text/plain": [
       "[1, 2, 5, 24, 34, 45, 53, 321]"
      ]
     },
     "execution_count": 3,
     "metadata": {},
     "output_type": "execute_result"
    }
   ],
   "source": [
    "#2 wap to sort given list\n",
    "lst=[1,2,53,24,5,34,321,45]\n",
    "lst.sort()\n",
    "lst"
   ]
  },
  {
   "cell_type": "code",
   "execution_count": 14,
   "id": "86f788f4",
   "metadata": {},
   "outputs": [
    {
     "name": "stdout",
     "output_type": "stream",
     "text": [
      "The even list from the given list is: [2, 4, 6, 8, 10]\n",
      "The even list from the given list is: [1, 3, 5, 7, 9]\n"
     ]
    }
   ],
   "source": [
    "#3 wap to create the list such that new list contains alternate even and odd from given list\n",
    "lst=[1,2,3,4,5,6,7,8,9,10]\n",
    "evlst=[]\n",
    "oddlst=[]\n",
    "\n",
    "for i in lst:\n",
    "    if i%2==0:\n",
    "        evlst.append(i)\n",
    "    else:\n",
    "        oddlst.append(i)\n",
    "print('The even list from the given list is:',evlst)\n",
    "print('The even list from the given list is:',oddlst)"
   ]
  },
  {
   "cell_type": "code",
   "execution_count": 5,
   "id": "b02fbcc3",
   "metadata": {},
   "outputs": [
    {
     "name": "stdout",
     "output_type": "stream",
     "text": [
      "Enter the total number of lists elements :4\n",
      "Enter the number: 23\n",
      "Enter the number: 43\n",
      "Enter the number: 54\n",
      "Enter the number: 23\n",
      "The largest number of: 54\n"
     ]
    }
   ],
   "source": [
    "#4 find largest number from the list\n",
    "lst=[1,21,34,54,67,43,56,65]\n",
    "lst.sort()\n",
    "print('The largest number from the given list is',lst[-1])"
   ]
  },
  {
   "cell_type": "code",
   "execution_count": 1,
   "id": "9ede1377",
   "metadata": {},
   "outputs": [
    {
     "name": "stdout",
     "output_type": "stream",
     "text": [
      "Enter the string: prajwlp\n",
      "The number of strings are 7\n"
     ]
    }
   ],
   "source": [
    "#5 write a python program to count the number of strings where the string length is 2 or more and the first and last charachter are same from the given list of strings.\n",
    "\n",
    "str1=input('Enter the string: ')\n",
    "str2=list(str1)\n",
    "c=0\n",
    "for i in str1:\n",
    "    if len(str2)>=2 and str2[0]==str2[-1]:\n",
    "        c=c+1\n",
    "    else:       \n",
    "        print('Enter Valid String')\n",
    "        i==1\n",
    "        break\n",
    "        \n",
    "print('The number of strings are',c)\n",
    "        "
   ]
  },
  {
   "cell_type": "code",
   "execution_count": 2,
   "id": "a265f7a0",
   "metadata": {},
   "outputs": [
    {
     "name": "stdout",
     "output_type": "stream",
     "text": [
      "Original list:- [1, 3, 4, 5, 6, 2, 3, 5]\n",
      "After removing duplicates:- [1, 2, 3, 4, 5, 6]\n"
     ]
    }
   ],
   "source": [
    "#6 write a program to remove duplicates from a list\n",
    "list1=[1,3,4,5,6,2,3,5]\n",
    "list2=set(list1)\n",
    "print(\"Original list: \",list1)\n",
    "print(\"After removing duplicates: \",list(list2))"
   ]
  },
  {
   "cell_type": "code",
   "execution_count": 3,
   "id": "2870d822",
   "metadata": {},
   "outputs": [
    {
     "name": "stdout",
     "output_type": "stream",
     "text": [
      "prajwal\n",
      "7\n",
      "['Ravichandran']\n"
     ]
    }
   ],
   "source": [
    "#7 Write a python program to find the list of words that are longer than given words.\n",
    "lst=['prajwal','shubham','tushar','vaibhav','Ravichandran']\n",
    "word=input()\n",
    "x=len(word)\n",
    "print(x)\n",
    "word_1=[]\n",
    "\n",
    "for word in lst:\n",
    "    if len(word)>x:\n",
    "        word_1.append(word)\n",
    "print(word_1)"
   ]
  },
  {
   "cell_type": "code",
   "execution_count": 24,
   "id": "8064a6d0",
   "metadata": {},
   "outputs": [
    {
     "name": "stdout",
     "output_type": "stream",
     "text": [
      "True\n"
     ]
    }
   ],
   "source": [
    "#8 write a python function that takes a two lists and returns the True if they have at least one charachter common member.\n",
    "lst1=['prajwal',1,2,3,4,'shubham']\n",
    "lst2=['tushar',4,5,6,7]\n",
    "\n",
    "for i in lst1:\n",
    "    for j in lst2:\n",
    "        if i==j:\n",
    "               print('True')\n",
    "        "
   ]
  },
  {
   "cell_type": "code",
   "execution_count": 4,
   "id": "b6ddc1cd",
   "metadata": {},
   "outputs": [
    {
     "data": {
      "text/plain": [
       "['Green', 'White', 'Black']"
      ]
     },
     "execution_count": 4,
     "metadata": {},
     "output_type": "execute_result"
    }
   ],
   "source": [
    "##9 wap to print a specified list after removing the 0th, 4th and 5th elements. \n",
    "#10 #11\n",
    "lst=['Red','Green','White','Black','Pink','Yellow']\n",
    "del(lst[5],lst[4],lst[0])\n",
    "lst"
   ]
  },
  {
   "cell_type": "code",
   "execution_count": 27,
   "id": "79cc953d",
   "metadata": {},
   "outputs": [
    {
     "name": "stdout",
     "output_type": "stream",
     "text": [
      "The given list is: [1, 2, 3, 4, 5, 6, 7, 8, 9]\n",
      "After the removing even number from the list: [1, 3, 5, 7, 9]\n"
     ]
    }
   ],
   "source": [
    "#12 write a prgram to print the numberrs of a specified list after removing even numbers from it\n",
    "lst=[1,2,3,4,5,6,7,8,9]\n",
    "print('The given list is:', lst)\n",
    "lst1=[]\n",
    "for i in lst:\n",
    "    if i%2!=0:\n",
    "        lst1.append(i)\n",
    "print('After the removing even number from the list:',lst1)"
   ]
  },
  {
   "cell_type": "code",
   "execution_count": null,
   "id": "66b1057c",
   "metadata": {},
   "outputs": [],
   "source": []
  }
 ],
 "metadata": {
  "kernelspec": {
   "display_name": "Python 3 (ipykernel)",
   "language": "python",
   "name": "python3"
  },
  "language_info": {
   "codemirror_mode": {
    "name": "ipython",
    "version": 3
   },
   "file_extension": ".py",
   "mimetype": "text/x-python",
   "name": "python",
   "nbconvert_exporter": "python",
   "pygments_lexer": "ipython3",
   "version": "3.11.0"
  }
 },
 "nbformat": 4,
 "nbformat_minor": 5
}
