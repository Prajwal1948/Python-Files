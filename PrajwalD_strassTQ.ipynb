{
 "cells": [
  {
   "cell_type": "code",
   "execution_count": 13,
   "id": "f6023891",
   "metadata": {},
   "outputs": [
    {
     "name": "stdout",
     "output_type": "stream",
     "text": [
      "Enter the string:-aba\n",
      "String is pallindrome\n"
     ]
    }
   ],
   "source": [
    "#1 Checck Palindrom or not\n",
    "string=input(\"Enter the string:-\")\n",
    "if string==string[::-1]:\n",
    "    print(\"String is pallindrome\")\n",
    "else:\n",
    "    print(\"String is not pallindrome\")"
   ]
  },
  {
   "cell_type": "code",
   "execution_count": 20,
   "id": "da784625",
   "metadata": {},
   "outputs": [
    {
     "name": "stdout",
     "output_type": "stream",
     "text": [
      "Enter the String: prajwal\n",
      "The no of vowles in the string 2\n"
     ]
    }
   ],
   "source": [
    "#2 count the number of vowels in given string\n",
    "\n",
    "str_1=input('Enter the String: ')\n",
    "vowels=0\n",
    "\n",
    "for i in str_1:\n",
    "        if(i=='a' or i=='e' or i=='i' or i=='o' or i=='u' or i=='A' or i=='E' or i=='I' or i=='O' or i=='U'):\n",
    "            vowels=vowels+1\n",
    "print('The no of vowles in the string',vowels)\n",
    "        "
   ]
  },
  {
   "cell_type": "code",
   "execution_count": 10,
   "id": "e81f5c55",
   "metadata": {},
   "outputs": [
    {
     "name": "stdout",
     "output_type": "stream",
     "text": [
      "Enter the string: prajwal\n",
      "Enter the character:-a\n",
      "p\n",
      "r\n",
      "j\n",
      "w\n",
      "l\n"
     ]
    }
   ],
   "source": [
    "#3 Remove all occurence of given char from string\n",
    "str1=input('Enter the string: ')\n",
    "char=input(\"Enter the character:-\")\n",
    "\n",
    "for i in str1:\n",
    "    if i != char:\n",
    "        print(\"\".join([i]))"
   ]
  },
  {
   "cell_type": "code",
   "execution_count": 52,
   "id": "ce2f9d2d",
   "metadata": {},
   "outputs": [
    {
     "name": "stdout",
     "output_type": "stream",
     "text": [
      "Enter the first string: triangle\n",
      "Enter the second string: integral\n",
      "The strings are angram\n"
     ]
    }
   ],
   "source": [
    "#4 angram or not\n",
    "str1=input('Enter the first string: ')\n",
    "str2=input('Enter the second string: ')\n",
    "\n",
    "if (sorted(str1) == sorted(str2)):\n",
    "    print('The strings are angram')\n",
    "else:\n",
    "    print('The strings are not angrams')"
   ]
  },
  {
   "cell_type": "code",
   "execution_count": 47,
   "id": "12fea08b",
   "metadata": {},
   "outputs": [
    {
     "name": "stdout",
     "output_type": "stream",
     "text": [
      "nohtyP si nuf\n"
     ]
    }
   ],
   "source": [
    "#5 reverse each word in the sentence\n",
    "str1='Python is fun'\n",
    "word=str1.split()\n",
    "reverse_str=[]\n",
    "\n",
    "for i in word:\n",
    "    reverse_str.append(i[::-1])\n",
    "res=' '.join(reverse_str)\n",
    "print(res)"
   ]
  },
  {
   "cell_type": "code",
   "execution_count": 1,
   "id": "743667ea",
   "metadata": {},
   "outputs": [
    {
     "name": "stdout",
     "output_type": "stream",
     "text": [
      "Enter the string: prajwal\n",
      "p : 1\n",
      "r : 1\n",
      "a : 2\n",
      "j : 1\n",
      "w : 1\n",
      "a : 2\n",
      "l : 1\n"
     ]
    }
   ],
   "source": [
    "#6 find frequncy of each charachter in given string \n",
    "str1=input('Enter the string: ')\n",
    "for i in str1:\n",
    "    print(i,':',str1.count(i))"
   ]
  },
  {
   "cell_type": "code",
   "execution_count": 12,
   "id": "f9052c3d",
   "metadata": {},
   "outputs": [
    {
     "name": "stdout",
     "output_type": "stream",
     "text": [
      "Enter your string:-prajwal hi \n",
      "['p', 'h']\n"
     ]
    }
   ],
   "source": [
    "#7 extract first alphabet from given sentence form new word\n",
    "string=input(\"Enter your string:-\")\n",
    "str1=string.split()\n",
    "word=[]\n",
    "for i in str1:\n",
    "    word.append(i[0])\n",
    "print(word)"
   ]
  },
  {
   "cell_type": "code",
   "execution_count": 30,
   "id": "05656f5e",
   "metadata": {},
   "outputs": [
    {
     "name": "stdout",
     "output_type": "stream",
     "text": [
      "Enter the no of pattern: 5\n",
      "*\n",
      "***\n",
      "*****\n",
      "*******\n",
      "*********\n"
     ]
    }
   ],
   "source": [
    "#8 star patterns\n",
    "n=int(input('Enter the no of pattern: '))\n",
    "for i in range(1,n*2,2):\n",
    "    print('*'*i)"
   ]
  },
  {
   "cell_type": "code",
   "execution_count": 32,
   "id": "32bc52e5",
   "metadata": {},
   "outputs": [
    {
     "name": "stdout",
     "output_type": "stream",
     "text": [
      "Enter the no of pattern: 5\n",
      "     *\n",
      "    ***\n",
      "   *****\n",
      "  *******\n",
      " *********\n"
     ]
    }
   ],
   "source": [
    "n=int(input('Enter the no of pattern: '))\n",
    "space=n \n",
    "\n",
    "for i in range(1,n*2,2):\n",
    "    s='*'*i\n",
    "    print(s.rjust(space+i,' '))\n",
    "    space=space-1"
   ]
  },
  {
   "cell_type": "markdown",
   "id": "269d7c19",
   "metadata": {},
   "source": [
    "##### "
   ]
  },
  {
   "cell_type": "code",
   "execution_count": 8,
   "id": "7af81e38",
   "metadata": {},
   "outputs": [
    {
     "name": "stdout",
     "output_type": "stream",
     "text": [
      "Enter the string: 5\n",
      "A B C D E \n",
      "A B C D \n",
      "A B C \n",
      "A B \n",
      "A \n"
     ]
    }
   ],
   "source": [
    "#9 ABCDE ABCD ABC AB A\n",
    "n=int(input('Enter the string: '))\n",
    "\n",
    "for i in range(n+65,65,-1):\n",
    "    for j in range(65,i):\n",
    "        print(chr(j),end=' ')\n",
    "    print()"
   ]
  },
  {
   "cell_type": "code",
   "execution_count": 2,
   "id": "7ba0d6cf",
   "metadata": {},
   "outputs": [
    {
     "name": "stdout",
     "output_type": "stream",
     "text": [
      "Enter the string: prajwal\n",
      "prjl\n"
     ]
    }
   ],
   "source": [
    "#10 Replace every charachter by its next susequent charachter\n",
    "str1=input('Enter the string: ')\n",
    "str2=[]\n",
    "for i in range(len(str1)):\n",
    "    asc=ord(str1[i])\n",
    "    if asc%2==0:\n",
    "        str2.append(chr(asc))\n",
    "print(\"\".join(str2))"
   ]
  },
  {
   "cell_type": "code",
   "execution_count": 57,
   "id": "a74a57c3",
   "metadata": {},
   "outputs": [
    {
     "name": "stdout",
     "output_type": "stream",
     "text": [
      "Enter the string: prajwal deshmukh\n",
      "The total no of charachters is:  16\n"
     ]
    }
   ],
   "source": [
    "#11 count the number of charchters in string\n",
    "str1=input('Enter the string: ')\n",
    "sum=0\n",
    "\n",
    "for i in str1:\n",
    "    sum=sum+1\n",
    "print('The total no of charachters is: ',sum)"
   ]
  },
  {
   "cell_type": "code",
   "execution_count": 67,
   "id": "79ea9be5",
   "metadata": {},
   "outputs": [
    {
     "name": "stdout",
     "output_type": "stream",
     "text": [
      "Enter the stringprajwal\n",
      "origibnal string prajwal\n",
      "modigfied string pawl\n"
     ]
    }
   ],
   "source": [
    "#12 remove the charachters which have odd index value of a given string\n",
    "def newString(str1): \n",
    "    str2=''\n",
    "\n",
    "    for i in range(len(str1)):\n",
    "        if (i%2 == 0):\n",
    "            str2=str2+str1[i]\n",
    "    return str2    \n",
    "\n",
    "str1=input('Enter the string')\n",
    "print('origibnal string', str1)\n",
    "print('modigfied string', newString(str1))"
   ]
  },
  {
   "cell_type": "code",
   "execution_count": 1,
   "id": "414dc3a3",
   "metadata": {},
   "outputs": [
    {
     "name": "stdout",
     "output_type": "stream",
     "text": [
      "Enter your string:-prajwal\n",
      "p : 1\n",
      "r : 1\n",
      "a : 2\n",
      "j : 1\n",
      "w : 1\n",
      "a : 2\n",
      "l : 1\n"
     ]
    }
   ],
   "source": [
    "#13. Write a Python program to count the occurrences of each word in a given sentence.\n",
    "string=input(\"Enter your string:-\")\n",
    "for i in string:\n",
    "    print(i,\":\",string.count(i))"
   ]
  },
  {
   "cell_type": "code",
   "execution_count": 11,
   "id": "8b10cd5d",
   "metadata": {},
   "outputs": [
    {
     "name": "stdout",
     "output_type": "stream",
     "text": [
      "Enter the string: prajwal\n",
      "PRAJWAL\n"
     ]
    }
   ],
   "source": [
    "#14Swapcase or toggle case\n",
    "str1=input('Enter the string: ')\n",
    "print(string.swapcase())"
   ]
  },
  {
   "cell_type": "code",
   "execution_count": null,
   "id": "72fa7663",
   "metadata": {},
   "outputs": [],
   "source": []
  }
 ],
 "metadata": {
  "kernelspec": {
   "display_name": "Python 3 (ipykernel)",
   "language": "python",
   "name": "python3"
  },
  "language_info": {
   "codemirror_mode": {
    "name": "ipython",
    "version": 3
   },
   "file_extension": ".py",
   "mimetype": "text/x-python",
   "name": "python",
   "nbconvert_exporter": "python",
   "pygments_lexer": "ipython3",
   "version": "3.11.0"
  }
 },
 "nbformat": 4,
 "nbformat_minor": 5
}
